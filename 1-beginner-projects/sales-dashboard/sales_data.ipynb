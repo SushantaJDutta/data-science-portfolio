{
  "nbformat": 4,
  "nbformat_minor": 0,
  "metadata": {
    "colab": {
      "provenance": [],
      "toc_visible": true
    },
    "kernelspec": {
      "name": "python3",
      "display_name": "Python 3"
    },
    "language_info": {
      "name": "python"
    }
  },
  "cells": [
    {
      "cell_type": "code",
      "execution_count": 16,
      "metadata": {
        "id": "3py37qczEPZ0"
      },
      "outputs": [],
      "source": [
        "import matplotlib.pyplot as plt\n",
        "\n",
        "# Bar chart - Region\n",
        "sales_by_region.plot(kind='bar', title='Total Sales by Region', color='skyblue')\n",
        "plt.xlabel(\"Region\")\n",
        "plt.ylabel(\"Sales\")\n",
        "plt.grid(True)\n",
        "plt.show()\n",
        "\n",
        "# Bar chart - Product\n",
        "sales_by_product.plot(kind='bar', title='Total Sales by Product', color='orange')\n",
        "plt.xlabel(\"Product\")\n",
        "plt.ylabel(\"Sales\")\n",
        "plt.grid(True)\n",
        "plt.show()"
      ]
    },
    {
      "cell_type": "markdown",
      "source": [
        "### 🔍 Insights:\n",
        "- East has the highest total sales.\n",
        "- Product B outsold Product A slightly.\n",
        "- Sales are relatively balanced across regions."
      ],
      "metadata": {
        "id": "y0BRzMSOHwsE"
      }
    }
  ]
}