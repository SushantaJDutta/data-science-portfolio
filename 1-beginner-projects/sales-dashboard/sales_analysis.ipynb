{
  "nbformat": 4,
  "nbformat_minor": 0,
  "metadata": {
    "colab": {
      "provenance": [],
      "toc_visible": true
    },
    "kernelspec": {
      "name": "python3",
      "display_name": "Python 3"
    },
    "language_info": {
      "name": "python"
    }
  },
  "cells": [
    {
      "cell_type": "code",
      "execution_count": 18,
      "metadata": {
        "id": "3py37qczEPZ0"
      },
      "outputs": [],
      "source": [
        "import pandas as pd\n",
        "import matplotlib.pyplot as plt\n",
        "\n",
        "# Sample data\n",
        "data = {'Month': ['Jan', 'Feb', 'Mar', 'Apr'],\n",
        "        'Sales': [250, 300, 400, 350]}\n",
        "\n",
        "df = pd.DataFrame(data)\n",
        "\n",
        "# Plot\n",
        "plt.plot(df['Month'], df['Sales'], marker='o')\n",
        "plt.title(\"Monthly Sales\")\n",
        "plt.xlabel(\"Month\")\n",
        "plt.ylabel(\"Sales\")\n",
        "plt.grid(True)\n",
        "plt.show()"
      ]
    },
    {
      "cell_type": "markdown",
      "source": [
        "### 🔍 Insights:\n",
        "- East has the highest total sales.\n",
        "- Product B outsold Product A slightly.\n",
        "- Sales are relatively balanced across regions."
      ],
      "metadata": {
        "id": "y0BRzMSOHwsE"
      }
    }
  ]
}