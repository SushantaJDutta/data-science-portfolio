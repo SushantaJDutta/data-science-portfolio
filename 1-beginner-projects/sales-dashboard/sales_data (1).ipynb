{
  "nbformat": 4,
  "nbformat_minor": 0,
  "metadata": {
    "colab": {
      "provenance": [],
      "toc_visible": true
    },
    "kernelspec": {
      "name": "python3",
      "display_name": "Python 3"
    },
    "language_info": {
      "name": "python"
    }
  },
  "cells": [
    {
      "cell_type": "code",
      "execution_count": 17,
      "metadata": {
        "colab": {
          "base_uri": "https://localhost:8080/"
        },
        "id": "3py37qczEPZ0",
        "outputId": "1374c3ed-1641-4b48-987c-ad0917bcd7cc"
      },
      "outputs": [
        {
          "output_type": "stream",
          "name": "stdout",
          "text": [
            "Sales Data Preview:\n",
            "  Region    Product Month  Sales\n",
            "0   East  Product A   Jan    200\n",
            "1   East  Product B   Feb    210\n",
            "2   East  Product C   Jan    180\n",
            "3   West  Product D   Jan    150\n",
            "4   West  Product E   Feb    220\n"
          ]
        }
      ],
      "source": [
        "import pandas as pd\n",
        "\n",
        "# Load the CSV file\n",
        "df = pd.read_csv('sales_data.csv')\n",
        "\n",
        "# Show the first few rows\n",
        "print(\"Sales Data Preview:\")\n",
        "print(df.head())"
      ]
    },
    {
      "cell_type": "markdown",
      "source": [
        "### 🔍 Insights:\n",
        "- East has the highest total sales.\n",
        "- Product B outsold Product A slightly.\n",
        "- Sales are relatively balanced across regions."
      ],
      "metadata": {
        "id": "y0BRzMSOHwsE"
      }
    }
  ]
}